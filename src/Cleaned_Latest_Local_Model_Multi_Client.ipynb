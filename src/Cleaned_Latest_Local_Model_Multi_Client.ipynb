{
  "nbformat": 4,
  "nbformat_minor": 0,
  "metadata": {
    "colab": {
      "provenance": []
    },
    "kernelspec": {
      "name": "python3",
      "display_name": "Python 3"
    },
    "language_info": {
      "name": "python"
    }
  },
  "cells": [
    {
      "cell_type": "code",
      "execution_count": null,
      "metadata": {
        "id": "lTt6H_RXC08k"
      },
      "outputs": [],
      "source": [
        "import torch\n",
        "from torchvision.datasets import MNIST\n",
        "from torch.utils.data import random_split, DataLoader\n",
        "import torchvision.transforms as transforms\n",
        "import matplotlib.pyplot as plt\n",
        "\n",
        "import pickle\n",
        "import base64\n",
        "import sys\n",
        "\n",
        "import hashlib\n",
        "import json\n",
        "from time import time\n",
        "from time import sleep\n",
        "import requests\n",
        "\n",
        "%matplotlib inline\n",
        "plt.rcParams['figure.figsize'] = [5, 5]"
      ]
    },
    {
      "cell_type": "code",
      "source": [
        "!pip install torchmetrics"
      ],
      "metadata": {
        "id": "zMc7Kh8ARl2f"
      },
      "execution_count": null,
      "outputs": []
    },
    {
      "cell_type": "code",
      "source": [
        "from torch import tensor\n",
        "from torchmetrics.classification import MulticlassRecall\n",
        "from torchmetrics.classification import MulticlassPrecision"
      ],
      "metadata": {
        "id": "-gDHljhNRo_l"
      },
      "execution_count": null,
      "outputs": []
    },
    {
      "cell_type": "code",
      "source": [
        "from google.colab import drive\n",
        "drive.mount('/content/gdrive')"
      ],
      "metadata": {
        "id": "ViRGjOWARsGh"
      },
      "execution_count": null,
      "outputs": []
    },
    {
      "cell_type": "code",
      "source": [
        "with open('/content/gdrive/MyDrive/Colab Notebooks/BC+FL Code/datasets/train_set.pickle', 'rb') as fp:\n",
        "  train_dataset = pickle.load(fp)\n",
        "\n",
        "with open('/content/gdrive/MyDrive/Colab Notebooks/BC+FL Code/datasets/test_set.pickle', 'rb') as fp:\n",
        "  test_dataset = pickle.load(fp)\n",
        "\n",
        "with open('/content/gdrive/MyDrive/Colab Notebooks/BC+FL Code/datasets/dev_set.pickle', 'rb') as fp:\n",
        "  dev_dataset = pickle.load(fp)"
      ],
      "metadata": {
        "id": "cVLtI39sRudf"
      },
      "execution_count": null,
      "outputs": []
    },
    {
      "cell_type": "code",
      "source": [
        "classes = 10\n",
        "input_dim = 784\n",
        "\n",
        "batch_size = 128\n",
        "epochs_per_client = 3\n",
        "learning_rate = 2e-2"
      ],
      "metadata": {
        "id": "vfZhhEvEC_IT"
      },
      "execution_count": null,
      "outputs": []
    },
    {
      "cell_type": "code",
      "source": [
        "num_clients = 2\n",
        "rounds = 1"
      ],
      "metadata": {
        "id": "lFRKe70EJAtn"
      },
      "execution_count": null,
      "outputs": []
    },
    {
      "cell_type": "code",
      "source": [
        "client_id = [i for i in range(num_clients)]"
      ],
      "metadata": {
        "id": "U3vWf2njT15L"
      },
      "execution_count": null,
      "outputs": []
    },
    {
      "cell_type": "code",
      "source": [
        "# Make sure there is no '/' at the end of the url.\n",
        "replit_url = \"######\"\n",
        "\n",
        "CHAIN_URL = f'{replit_url}/chain'\n",
        "MINE_URL = f'{replit_url}/mine'\n",
        "SEND_TRNS_URL = f'{replit_url}/transactions/new'\n",
        "GET_TRNS_URL = f'{replit_url}/current'\n",
        "PREV_BLK_URL = f'{replit_url}/last'"
      ],
      "metadata": {
        "id": "zTh0KER6-Jad"
      },
      "execution_count": null,
      "outputs": []
    },
    {
      "cell_type": "code",
      "source": [
        "def get_device():\n",
        "    return torch.device('cuda') if torch.cuda.is_available() else torch.device('cpu')\n",
        "\n",
        "def to_device(data, device):\n",
        "    if isinstance(data, (list, tuple)):\n",
        "        return [to_device(x, device) for x in data]\n",
        "    return data.to(device, non_blocking=True)\n",
        "\n",
        "class DeviceDataLoader(DataLoader):\n",
        "        def __init__(self, dl, device):\n",
        "            self.dl = dl\n",
        "            self.device = device\n",
        "\n",
        "        def __iter__(self):\n",
        "            for batch in self.dl:\n",
        "                yield to_device(batch, self.device)\n",
        "\n",
        "        def __len__(self):\n",
        "            return len(self.dl)\n",
        "\n",
        "device = get_device()"
      ],
      "metadata": {
        "id": "guDxRLZ2DFUc"
      },
      "execution_count": null,
      "outputs": []
    },
    {
      "cell_type": "code",
      "source": [
        "class FederatedNet(torch.nn.Module):\n",
        "    def __init__(self):\n",
        "        super().__init__()\n",
        "        self.conv1 = torch.nn.Conv2d(1, 20, 7)\n",
        "        self.conv2 = torch.nn.Conv2d(20, 40, 7)\n",
        "        self.maxpool = torch.nn.MaxPool2d(2, 2)\n",
        "        self.flatten = torch.nn.Flatten()\n",
        "        self.linear = torch.nn.Linear(2560, 10)\n",
        "        self.non_linearity = torch.nn.functional.relu\n",
        "        self.track_layers = {'conv1': self.conv1, 'conv2': self.conv2, 'linear': self.linear}\n",
        "\n",
        "    def forward(self, x_batch):\n",
        "        out = self.conv1(x_batch)\n",
        "        out = self.non_linearity(out)\n",
        "        out = self.conv2(out)\n",
        "        out = self.non_linearity(out)\n",
        "        out = self.maxpool(out)\n",
        "        out = self.flatten(out)\n",
        "        out = self.linear(out)\n",
        "        return out\n",
        "\n",
        "    def get_track_layers(self):\n",
        "        return self.track_layers\n",
        "\n",
        "    def apply_parameters(self, parameters_dict):\n",
        "        with torch.no_grad():\n",
        "            for layer_name in parameters_dict:\n",
        "                self.track_layers[layer_name].weight.data *= 0\n",
        "                self.track_layers[layer_name].bias.data *= 0\n",
        "                self.track_layers[layer_name].weight.data += parameters_dict[layer_name]['weight']\n",
        "                self.track_layers[layer_name].bias.data += parameters_dict[layer_name]['bias']\n",
        "\n",
        "    def get_parameters(self):\n",
        "        parameters_dict = dict()\n",
        "        for layer_name in self.track_layers:\n",
        "            parameters_dict[layer_name] = {\n",
        "                'weight': self.track_layers[layer_name].weight.data,\n",
        "                'bias': self.track_layers[layer_name].bias.data\n",
        "            }\n",
        "        return parameters_dict\n",
        "\n",
        "    def batch_accuracy(self, outputs, labels):\n",
        "        with torch.no_grad():\n",
        "            _, predictions = torch.max(outputs, dim=1)\n",
        "            return torch.tensor(torch.sum(predictions == labels).item() / len(predictions))\n",
        "\n",
        "    def _process_batch(self, batch):\n",
        "        images, labels = batch\n",
        "        outputs = self(images)\n",
        "        loss = torch.nn.functional.cross_entropy(outputs, labels)\n",
        "        accuracy = self.batch_accuracy(outputs, labels)\n",
        "        precision = MulticlassPrecision(num_classes=10).to(device)\n",
        "        precision_score = precision(outputs, labels)\n",
        "        recall = MulticlassRecall(num_classes=10).to(device)\n",
        "        recall_score = recall(outputs, labels)\n",
        "        return (loss, accuracy, precision_score, recall_score)\n",
        "\n",
        "    def fit(self, dataset, epochs, lr, batch_size=128, opt=torch.optim.SGD):\n",
        "        dataloader = DeviceDataLoader(DataLoader(dataset, batch_size, shuffle=True), device)\n",
        "        optimizer = opt(self.parameters(), lr)\n",
        "        history = []\n",
        "        for epoch in range(epochs):\n",
        "            losses = []\n",
        "            accs = []\n",
        "            prec_list = []\n",
        "            rec_list = []\n",
        "            for batch in dataloader:\n",
        "                loss, acc, prec, rec = self._process_batch(batch)\n",
        "                loss.backward()\n",
        "                optimizer.step()\n",
        "                optimizer.zero_grad()\n",
        "                loss.detach()\n",
        "                losses.append(loss)\n",
        "                accs.append(acc)\n",
        "                prec_list.append(prec)\n",
        "                rec_list.append(rec)\n",
        "            avg_loss = torch.stack(losses).mean().item()\n",
        "            avg_acc = torch.stack(accs).mean().item()\n",
        "            avg_prec = torch.stack(prec_list).mean().item()\n",
        "            avg_rec = torch.stack(rec_list).mean().item()\n",
        "            f1 = (2*avg_prec*avg_rec) / (avg_prec + avg_rec)\n",
        "            history.append((avg_loss, avg_acc, avg_prec, avg_rec, f1))\n",
        "        return history\n",
        "\n",
        "    def evaluate(self, dataset, batch_size=128):\n",
        "        dataloader = DeviceDataLoader(DataLoader(dataset, batch_size), device)\n",
        "        losses = []\n",
        "        accs = []\n",
        "        prec_list = []\n",
        "        rec_list = []\n",
        "        with torch.no_grad():\n",
        "            for batch in dataloader:\n",
        "                loss, acc, prec, rec = self._process_batch(batch)\n",
        "                losses.append(loss)\n",
        "                accs.append(acc)\n",
        "                prec_list.append(prec)\n",
        "                rec_list.append(rec)\n",
        "        avg_loss = torch.stack(losses).mean().item()\n",
        "        avg_acc = torch.stack(accs).mean().item()\n",
        "        avg_prec = torch.stack(prec_list).mean().item()\n",
        "        avg_rec = torch.stack(rec_list).mean().item()\n",
        "        f1 = (2*avg_prec*avg_rec) / (avg_prec + avg_rec)\n",
        "        return (avg_loss, avg_acc, avg_prec, avg_rec, f1)"
      ],
      "metadata": {
        "id": "GLXm40yH_YWX"
      },
      "execution_count": null,
      "outputs": []
    },
    {
      "cell_type": "code",
      "source": [
        "class Client:\n",
        "    def __init__(self, client_id, dataset):\n",
        "        self.client_id = client_id\n",
        "        self.dataset = dataset\n",
        "\n",
        "    def get_dataset_size(self):\n",
        "        return len(self.dataset)\n",
        "\n",
        "    def get_client_id(self):\n",
        "        return self.client_id\n",
        "\n",
        "    def train(self, parameters_dict):\n",
        "        net = to_device(FederatedNet(), device)\n",
        "        net.apply_parameters(parameters_dict)\n",
        "        train_history = net.fit(self.dataset, epochs_per_client, learning_rate, batch_size)\n",
        "        print('{}: Loss = {}, Accuracy = {}, Precision = {}, Recall = {}, F1 = {}'.format(self.client_id, round(train_history[-1][0], 4), round(train_history[-1][1], 4), round(train_history[-1][2], 4), round(train_history[-1][3], 4), round(train_history[-1][4], 4)))\n",
        "        return net.get_parameters()"
      ],
      "metadata": {
        "id": "PIv2-ME4D1zc"
      },
      "execution_count": null,
      "outputs": []
    },
    {
      "cell_type": "code",
      "source": [
        "def compress_params(params):\n",
        "  compressed = pickle.dumps(params)\n",
        "  params_bytes = base64.b64encode(compressed)\n",
        "  params_bystr = params_bytes.decode('ascii')\n",
        "  return params_bystr\n",
        "\n",
        "def decompress_params(params):\n",
        "  decompressed = params.encode(\"ascii\")\n",
        "  decompressed = base64.b64decode(decompressed)\n",
        "  decompressed = pickle.loads(decompressed)\n",
        "  return decompressed"
      ],
      "metadata": {
        "id": "1yNzpTyi-fi_"
      },
      "execution_count": null,
      "outputs": []
    },
    {
      "cell_type": "code",
      "source": [
        "total_train_size = len(train_dataset)"
      ],
      "metadata": {
        "id": "1ZLAUjNOaGmx"
      },
      "execution_count": null,
      "outputs": []
    },
    {
      "cell_type": "code",
      "source": [
        "examples_per_client = total_train_size // num_clients\n",
        "client_datasets = random_split(train_dataset, [min(i + examples_per_client,\n",
        "           total_train_size) - i for i in range(0, total_train_size, examples_per_client)])\n",
        "clients = [Client('client_' + str(i), client_datasets[i]) for i in range(num_clients)]"
      ],
      "metadata": {
        "id": "fJOU2c6JaEpw"
      },
      "execution_count": null,
      "outputs": []
    },
    {
      "cell_type": "code",
      "source": [
        "prev_block_index = -1\n",
        "for i in range(rounds):\n",
        "  response = requests.get(PREV_BLK_URL)\n",
        "  block_index = response.json()['chain']['index']\n",
        "\n",
        "  # print(prev_block_index)\n",
        "  # print(block_index)\n",
        "\n",
        "  # if i == 0:\n",
        "  #   prev_block_index = block_index\n",
        "\n",
        "  # print(prev_block_index)\n",
        "\n",
        "  new_block = False if int(prev_block_index) == int(block_index) else True\n",
        "  # print(new_block)\n",
        "  # print(response.json()['chain']['transactions'][-2]['type'] != 'global')\n",
        "  cond = response.json()['chain']['transactions'][-2]['type'] != 'global' or new_block == False\n",
        "  print(cond)\n",
        "\n",
        "  while response.json()['chain']['transactions'][-2]['type'] != 'global' or new_block == False:\n",
        "    sleep(30)\n",
        "    response = requests.get(PREV_BLK_URL)\n",
        "    block_index = response.json()['chain']['index']\n",
        "    new_block = False if int(prev_block_index) == int(block_index) else True\n",
        "    print(cond)\n",
        "\n",
        "  prev_block_index = block_index\n",
        "\n",
        "  curr_global_gradients = response.json()['chain']['transactions'][-2]['gradients']\n",
        "  curr_global_gradients = decompress_params(curr_global_gradients)\n",
        "\n",
        "  for layer_name in curr_global_gradients:\n",
        "    curr_global_gradients[layer_name]['weight'] = curr_global_gradients[layer_name]['weight'].to(device)\n",
        "    curr_global_gradients[layer_name]['bias'] = curr_global_gradients[layer_name]['bias'].to(device)\n",
        "\n",
        "  for j in client_id:\n",
        "    sleep(5)\n",
        "    client_parameters = clients[j].train(curr_global_gradients)\n",
        "\n",
        "    for layer_name in client_parameters:\n",
        "      client_parameters[layer_name]['weight'] = client_parameters[layer_name]['weight'].to('cpu')\n",
        "      client_parameters[layer_name]['bias'] = client_parameters[layer_name]['bias'].to('cpu')\n",
        "\n",
        "    client_data_size = clients[j].get_dataset_size()\n",
        "    client_parameters_compressed = compress_params(client_parameters)\n",
        "    new_transaction = {\n",
        "        'type': 'local',\n",
        "        'trainer': client_id[j],\n",
        "        'gradient': client_parameters_compressed,\n",
        "        'data-size': client_data_size\n",
        "    }\n",
        "\n",
        "    # Send the transaction to the server\n",
        "    response = requests.post(SEND_TRNS_URL, json=new_transaction)\n",
        "    print(response.json())"
      ],
      "metadata": {
        "id": "AD7WMiSBUGoh"
      },
      "execution_count": null,
      "outputs": []
    },
    {
      "cell_type": "code",
      "source": [
        "print(response)"
      ],
      "metadata": {
        "id": "Jc0P7ebS_IF9"
      },
      "execution_count": null,
      "outputs": []
    },
    {
      "cell_type": "code",
      "source": [
        "global_net = to_device(FederatedNet(), 'cpu')\n",
        "curr_parameters = global_net.get_parameters()\n",
        "\n",
        "for layer_name in curr_parameters:\n",
        "    curr_parameters[layer_name]['weight'] = curr_parameters[layer_name]['weight'].to(device)\n",
        "    curr_parameters[layer_name]['bias'] = curr_parameters[layer_name]['bias'].to(device)\n",
        "\n",
        "for j in client_id:\n",
        "  #clients[j].to(device)\n",
        "  client_parameters = clients[j].train(curr_parameters)\n",
        "  client_data_size = clients[j].get_dataset_size()\n",
        "  print(client_data_size)"
      ],
      "metadata": {
        "id": "erVTk-nyVMCZ"
      },
      "execution_count": null,
      "outputs": []
    }
  ]
}